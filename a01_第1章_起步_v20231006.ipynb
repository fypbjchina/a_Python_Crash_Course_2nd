{
 "cells": [
  {
   "cell_type": "markdown",
   "id": "4af3691f",
   "metadata": {},
   "source": [
    "# 不容错过的成长之旅 <a class=\"tocSkip\">"
   ]
  },
  {
   "cell_type": "markdown",
   "id": "261db427",
   "metadata": {},
   "source": [
    "1. 零基础快速上手，面向非计算机专业的学生\n",
    "2. 拥抱了Python技术生态的变化\n",
    "3. 完全无基础的读者最好别从第 1 章开始学习，否则在第一部分就会耗尽所有热情\n",
    "4. 第一部分尽可能在 42 小时内快速浏览一遍，不用理解，先混个眼熟\n",
    "5. 最好是找到一起学习的小伙伴...大家一起折腾，阅读和学习才可能事半功倍"
   ]
  },
  {
   "cell_type": "markdown",
   "id": "47d7c46f",
   "metadata": {},
   "source": [
    "# 导读 <a class=\"tocSkip\">"
   ]
  },
  {
   "cell_type": "markdown",
   "id": "3adc7427",
   "metadata": {},
   "source": [
    "1. 本书适合任何年龄的读者阅读，它不要求你有 Python 编程经验，甚至不要求你有编程经验\n",
    "2. 本书旨在让你成为优秀的程序员，具体地说，是优秀的 Python 程序员\n",
    "3. 通过阅读本书，你将迅速掌握编程概念，打下坚实的基础，并养成良好的习惯\n",
    "4. 我依然使用 Python 的一个最重要的原因是，Python 社区有形形色色充满激情的人\n",
    "5. 对程序员来说，社区非常重要，因为编程绝非孤独的修行\n",
    "6. 对于像你一样将 Python 作为第一门语言来学习的人而言，Python 社区无疑是坚强的后盾\n",
    "7. Python 是一门出色的语言，值得你去学习。现在就开始吧！"
   ]
  },
  {
   "cell_type": "markdown",
   "id": "55b8da90",
   "metadata": {},
   "source": [
    "# 第1章 起步 <a class=\"tocSkip\">"
   ]
  },
  {
   "cell_type": "markdown",
   "id": "8a9e53ca",
   "metadata": {},
   "source": [
    "## 搭建编程环境 <a class=\"tocSkip\">"
   ]
  },
  {
   "cell_type": "markdown",
   "id": "79024cdd",
   "metadata": {},
   "source": [
    "### 2. 在终端会话中运行Python <a class=\"tocSkip\">"
   ]
  },
  {
   "cell_type": "markdown",
   "id": "c8fdc4d8",
   "metadata": {},
   "source": [
    "打开 command 运行环境\n",
    "1. 执行命令 conda activate base，激活Python运行环境 (base)\n",
    "2. 执行命令 python，出现Python提示符 >>>，运行 exit() 或 quit() 退出\n",
    "3. 执行命令 ipython, 出现ipython解释器，运行 exit 或 quit 退出\n",
    "4. 执行命令 conda deactivate, 返回 command 环境"
   ]
  },
  {
   "cell_type": "markdown",
   "id": "b40f73ba",
   "metadata": {},
   "source": [
    "![cmd.exe中运行Python](a01_2_1_1.png)"
   ]
  },
  {
   "cell_type": "raw",
   "id": "83531047",
   "metadata": {},
   "source": [
    "注：插入图片\n",
    "方法1：![xxx](xxx.png)\n",
    "方法2：<img src=\"xxx.png\" alt=\"xxx\" width=\"300\" height=\"200\" align=\"left\">"
   ]
  },
  {
   "cell_type": "markdown",
   "id": "5eac30f4",
   "metadata": {},
   "source": [
    "### 扩展：一些自学和有趣的方法 <a class=\"tocSkip\">"
   ]
  },
  {
   "cell_type": "code",
   "execution_count": 15,
   "id": "2c4585fc",
   "metadata": {},
   "outputs": [
    {
     "name": "stdout",
     "output_type": "stream",
     "text": [
      "Help on built-in function print in module builtins:\n",
      "\n",
      "print(...)\n",
      "    print(value, ..., sep=' ', end='\\n', file=sys.stdout, flush=False)\n",
      "    \n",
      "    Prints the values to a stream, or to sys.stdout by default.\n",
      "    Optional keyword arguments:\n",
      "    file:  a file-like object (stream); defaults to the current sys.stdout.\n",
      "    sep:   string inserted between values, default a space.\n",
      "    end:   string appended after the last value, default a newline.\n",
      "    flush: whether to forcibly flush the stream.\n",
      "\n"
     ]
    }
   ],
   "source": [
    "# 获取Python文档 Docstring: help()函数\n",
    "\n",
    "help(print)"
   ]
  },
  {
   "cell_type": "code",
   "execution_count": 17,
   "id": "9c5b39dd",
   "metadata": {},
   "outputs": [],
   "source": [
    "# 获取 Python 文档 Docstring: ?\n",
    "# 参考《数据科学手册》 §1.2.1\n",
    "\n",
    "print?"
   ]
  },
  {
   "cell_type": "code",
   "execution_count": 20,
   "id": "549444ed",
   "metadata": {},
   "outputs": [],
   "source": [
    "# 获取 Python 原代码: ??\n",
    "# 参考《数据科学手册》 §1.2.2\n",
    "# c:\\program files\\anaconda3\\lib or C:\\Users\\xxx\\.conda\\envs\\Python39\\Lib\n",
    "# 部分原代码无法显示具体内容，可能是由于非Python语言\n",
    "\n",
    "print??"
   ]
  },
  {
   "cell_type": "code",
   "execution_count": 1,
   "id": "6ab6993b",
   "metadata": {},
   "outputs": [
    {
     "name": "stdout",
     "output_type": "stream",
     "text": [
      "Hello Python - Beginner: Welcome to the Python World!\n"
     ]
    }
   ],
   "source": [
    "# 使用 魔法命令 %run 运行外部代码 .py 程序\n",
    "# 参考《数据科学手册》 §1.4.2\n",
    "\n",
    "%run a01_4_2_hello_python.py"
   ]
  },
  {
   "cell_type": "code",
   "execution_count": 2,
   "id": "b5402634",
   "metadata": {},
   "outputs": [
    {
     "name": "stdout",
     "output_type": "stream",
     "text": [
      "Hello Python - Beginner: Welcome to the Python World!\n"
     ]
    }
   ],
   "source": [
    "# 使用 ! 运行外部命令\n",
    "\n",
    "!python a01_4_2_hello_python.py"
   ]
  },
  {
   "cell_type": "code",
   "execution_count": 3,
   "id": "8540425f",
   "metadata": {},
   "outputs": [
    {
     "name": "stdout",
     "output_type": "stream",
     "text": [
      "Hello Python - Beginner: Welcome to the Python World!\n"
     ]
    }
   ],
   "source": [
    "# %load a01_4_2_hello_python.py\n",
    "\"\"\" Hello Python World! \"\"\"\n",
    "\n",
    "print(\"Hello Python - Beginner: Welcome to the Python World!\")"
   ]
  },
  {
   "cell_type": "markdown",
   "id": "b49b66ee",
   "metadata": {},
   "source": [
    "#### 利用 ChatGPT 和 Python - Beginner 及一切与Python相关的内容 <a class=\"tocSkip\">"
   ]
  }
 ],
 "metadata": {
  "kernelspec": {
   "display_name": "Python 3 (ipykernel)",
   "language": "python",
   "name": "python3"
  },
  "language_info": {
   "codemirror_mode": {
    "name": "ipython",
    "version": 3
   },
   "file_extension": ".py",
   "mimetype": "text/x-python",
   "name": "python",
   "nbconvert_exporter": "python",
   "pygments_lexer": "ipython3",
   "version": "3.11.5"
  },
  "toc": {
   "base_numbering": 1,
   "nav_menu": {},
   "number_sections": true,
   "sideBar": true,
   "skip_h1_title": false,
   "title_cell": "Table of Contents",
   "title_sidebar": "Contents",
   "toc_cell": false,
   "toc_position": {
    "height": "calc(100% - 180px)",
    "left": "10px",
    "top": "150px",
    "width": "165px"
   },
   "toc_section_display": true,
   "toc_window_display": true
  },
  "varInspector": {
   "cols": {
    "lenName": 16,
    "lenType": 16,
    "lenVar": 40
   },
   "kernels_config": {
    "python": {
     "delete_cmd_postfix": "",
     "delete_cmd_prefix": "del ",
     "library": "var_list.py",
     "varRefreshCmd": "print(var_dic_list())"
    },
    "r": {
     "delete_cmd_postfix": ") ",
     "delete_cmd_prefix": "rm(",
     "library": "var_list.r",
     "varRefreshCmd": "cat(var_dic_list()) "
    }
   },
   "types_to_exclude": [
    "module",
    "function",
    "builtin_function_or_method",
    "instance",
    "_Feature"
   ],
   "window_display": false
  }
 },
 "nbformat": 4,
 "nbformat_minor": 5
}
